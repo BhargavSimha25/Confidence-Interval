{
  "nbformat": 4,
  "nbformat_minor": 0,
  "metadata": {
    "colab": {
      "provenance": []
    },
    "kernelspec": {
      "name": "python3",
      "display_name": "Python 3"
    },
    "language_info": {
      "name": "python"
    }
  },
  "cells": [
    {
      "cell_type": "code",
      "source": [
        "import numpy as np\n",
        "import pandas as pd\n",
        "from scipy import stats"
      ],
      "metadata": {
        "id": "7UI5N5Szuyus"
      },
      "execution_count": null,
      "outputs": []
    },
    {
      "cell_type": "code",
      "source": [
        "a=[1.13, 1.55, 1.43, 0.92, 1.25, 1.36, 1.32, 0.85, 1.07, 1.48, 1.20, 1.33, 1.18, 1.22, 1.29]"
      ],
      "metadata": {
        "id": "Ce-6-5RUu4rU"
      },
      "execution_count": null,
      "outputs": []
    },
    {
      "cell_type": "markdown",
      "source": [
        "**A. Build 99% Confidence Interval Using Sample Standard Deviation**"
      ],
      "metadata": {
        "id": "wNC8SlZ7vMxI"
      }
    },
    {
      "cell_type": "code",
      "source": [
        "n=len(a)\n",
        "dof=n-1\n",
        "print(\"Degree of freedom :\",dof)"
      ],
      "metadata": {
        "colab": {
          "base_uri": "https://localhost:8080/"
        },
        "id": "tXXa12BZu_S1",
        "outputId": "a7ddce72-3b66-45f7-e3f2-7c3f353dc36b"
      },
      "execution_count": null,
      "outputs": [
        {
          "output_type": "stream",
          "name": "stdout",
          "text": [
            "Degree of freedom : 14\n"
          ]
        }
      ]
    },
    {
      "cell_type": "code",
      "source": [
        "sample_mean=np.mean(a)\n",
        "print(\"Sample Mean:\",sample_mean)\n",
        "sample_std=np.std(a)\n",
        "print(\"Sample Standard Deviation:\",sample_std)"
      ],
      "metadata": {
        "colab": {
          "base_uri": "https://localhost:8080/"
        },
        "id": "II6fI7kawM7Y",
        "outputId": "a6cc47d1-2b7a-4d7b-833a-358c7216e7d7"
      },
      "execution_count": null,
      "outputs": [
        {
          "output_type": "stream",
          "name": "stdout",
          "text": [
            "Sample Mean: 1.2386666666666666\n",
            "Sample Standard Deviation: 0.18661427836285438\n"
          ]
        }
      ]
    },
    {
      "cell_type": "code",
      "source": [
        "## t-distribution for 99% confidence and n-1 degrees of freedom\n",
        "\n",
        "t_value=stats.t.ppf(0.995,dof)\n",
        "print(\"t-value:\",t_value)"
      ],
      "metadata": {
        "colab": {
          "base_uri": "https://localhost:8080/"
        },
        "id": "Pjkto60KwnuT",
        "outputId": "429b289b-04e7-4207-88e7-7cbb750595a7"
      },
      "execution_count": null,
      "outputs": [
        {
          "output_type": "stream",
          "name": "stdout",
          "text": [
            "t-value: 2.97684273411266\n"
          ]
        }
      ]
    },
    {
      "cell_type": "code",
      "source": [
        "# margin of error\n",
        "margin_of_error=t_value*(sample_std/np.sqrt(n))\n",
        "print(\"Margin of Error:\",margin_of_error)"
      ],
      "metadata": {
        "colab": {
          "base_uri": "https://localhost:8080/"
        },
        "id": "6-WE4Phqw1Kt",
        "outputId": "005a0bdf-d5f9-4687-b3f6-60254af6b615"
      },
      "execution_count": null,
      "outputs": [
        {
          "output_type": "stream",
          "name": "stdout",
          "text": [
            "Margin of Error: 0.14343499802810397\n"
          ]
        }
      ]
    },
    {
      "cell_type": "code",
      "source": [
        "# Confidence interval\n",
        "ci_lower=sample_mean-margin_of_error\n",
        "ci_upper=sample_mean+margin_of_error\n",
        "print(\"Confidence Interval:\",(ci_lower,ci_upper))"
      ],
      "metadata": {
        "colab": {
          "base_uri": "https://localhost:8080/"
        },
        "id": "T3pR_lWFxJ6X",
        "outputId": "a0ab13bf-c3a8-478c-bfac-a407cdf1e702"
      },
      "execution_count": null,
      "outputs": [
        {
          "output_type": "stream",
          "name": "stdout",
          "text": [
            "Confidence Interval: (1.0952316686385626, 1.3821016646947706)\n"
          ]
        }
      ]
    },
    {
      "cell_type": "markdown",
      "source": [
        "**B. Build 99% Confidence Interval Using Known Population Standard Deviation**"
      ],
      "metadata": {
        "id": "VSKGBlRS1oXh"
      }
    },
    {
      "cell_type": "code",
      "source": [
        "population_std=0.2"
      ],
      "metadata": {
        "id": "ntTSql2r1qLU"
      },
      "execution_count": null,
      "outputs": []
    },
    {
      "cell_type": "code",
      "source": [
        "#z-distribution for 99% confidence\n",
        "z_value=stats.norm.ppf(0.995)\n",
        "print(\"z-value:\",z_value)"
      ],
      "metadata": {
        "id": "vDXmv8yx14RI",
        "colab": {
          "base_uri": "https://localhost:8080/"
        },
        "outputId": "e57884ff-d28c-44c4-aab4-58d5efc349c9"
      },
      "execution_count": 17,
      "outputs": [
        {
          "output_type": "stream",
          "name": "stdout",
          "text": [
            "z-value: 2.5758293035489004\n"
          ]
        }
      ]
    },
    {
      "cell_type": "code",
      "source": [
        "#margin of error\n",
        "margin_of_error=z_value*(population_std/np.sqrt(n))\n",
        "print(\"Margin of Error:\",margin_of_error)"
      ],
      "metadata": {
        "colab": {
          "base_uri": "https://localhost:8080/"
        },
        "id": "2tRgTUGh3l6y",
        "outputId": "20000e4f-8d7e-44f1-aa87-3d67e39dc787"
      },
      "execution_count": 18,
      "outputs": [
        {
          "output_type": "stream",
          "name": "stdout",
          "text": [
            "Margin of Error: 0.13301525327090588\n"
          ]
        }
      ]
    },
    {
      "cell_type": "code",
      "source": [
        "#confidence interval\n",
        "ci_lower=sample_mean-margin_of_error\n",
        "ci_upper=sample_mean+margin_of_error\n",
        "print(\"Confidence Interval:\",(ci_lower,ci_upper))"
      ],
      "metadata": {
        "colab": {
          "base_uri": "https://localhost:8080/"
        },
        "id": "08dlg3uL3qUx",
        "outputId": "11ec1272-8abe-43f2-c01e-c9eba36eff5b"
      },
      "execution_count": 19,
      "outputs": [
        {
          "output_type": "stream",
          "name": "stdout",
          "text": [
            "Confidence Interval: (1.1056514133957607, 1.3716819199375725)\n"
          ]
        }
      ]
    }
  ]
}